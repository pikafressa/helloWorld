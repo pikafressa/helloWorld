{
  "nbformat": 4,
  "nbformat_minor": 0,
  "metadata": {
    "colab": {
      "provenance": [],
      "authorship_tag": "ABX9TyO/0GSme3kXUhSeS2IhF9zg",
      "include_colab_link": true
    },
    "kernelspec": {
      "name": "python3",
      "display_name": "Python 3"
    },
    "language_info": {
      "name": "python"
    }
  },
  "cells": [
    {
      "cell_type": "markdown",
      "metadata": {
        "id": "view-in-github",
        "colab_type": "text"
      },
      "source": [
        "<a href=\"https://colab.research.google.com/github/pikafressa/helloWorld/blob/main/noVoaTrabaja.ipynb\" target=\"_parent\"><img src=\"https://colab.research.google.com/assets/colab-badge.svg\" alt=\"Open In Colab\"/></a>"
      ]
    },
    {
      "cell_type": "code",
      "execution_count": 2,
      "metadata": {
        "colab": {
          "base_uri": "https://localhost:8080/"
        },
        "id": "fM32mIvuC3_S",
        "outputId": "6f370d9b-7f01-401c-e008-8087f55c15db"
      },
      "outputs": [
        {
          "output_type": "stream",
          "name": "stdout",
          "text": [
            "Ingresa un numero segun el dia de la semana: 4\n",
            "Jueves! Estoy muy desvelado Me siento hasta mareado No vo´a tabajá!\n"
          ]
        }
      ],
      "source": [
        "numero = int(input(\"Ingresa un numero segun el dia de la semana: \"))\n",
        "if numero == 1:\n",
        "  print (\"Lunes Principio de semana, Principio de semana? No vo´a tabajá!\")\n",
        "elif numero == 2:\n",
        "  print(\"Ni te cases ni te embarques Pa´ que voy a arriesgarme No vo´a tabajá!\")\n",
        "elif numero == 3:\n",
        "  print(\"Miercoles! Se casa la patrona Ay que pachangona! No vo´a tabajá!\")\n",
        "elif numero == 4:\n",
        "  print(\"Jueves! Estoy muy desvelado Me siento hasta mareado No vo´a tabajá!\")\n",
        "elif numero == 5:\n",
        "  print(\"Que muere jesucristo! Donde se ha visto? No vo´a tabajá\")\n",
        "else: print(\"ERROR\")"
      ]
    }
  ]
}