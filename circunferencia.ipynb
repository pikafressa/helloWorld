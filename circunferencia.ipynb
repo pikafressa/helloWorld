{
  "nbformat": 4,
  "nbformat_minor": 0,
  "metadata": {
    "colab": {
      "provenance": [],
      "authorship_tag": "ABX9TyM09heiqqp8cFTagmW5GodX",
      "include_colab_link": true
    },
    "kernelspec": {
      "name": "python3",
      "display_name": "Python 3"
    },
    "language_info": {
      "name": "python"
    }
  },
  "cells": [
    {
      "cell_type": "markdown",
      "metadata": {
        "id": "view-in-github",
        "colab_type": "text"
      },
      "source": [
        "<a href=\"https://colab.research.google.com/github/pikafressa/helloWorld/blob/main/circunferencia.ipynb\" target=\"_parent\"><img src=\"https://colab.research.google.com/assets/colab-badge.svg\" alt=\"Open In Colab\"/></a>"
      ]
    },
    {
      "cell_type": "code",
      "source": [
        "radio = 15\n",
        "\n",
        "circ =  (3.14159*2) * radio\n",
        "\n",
        "area = 3.14159 * (radio*radio)\n",
        "\n",
        "print (\"la circunferencia es: \", circ)\n",
        "print (\"El area es: \", area)"
      ],
      "metadata": {
        "colab": {
          "base_uri": "https://localhost:8080/"
        },
        "id": "MHELDEXBusuK",
        "outputId": "47c3bdf5-ccf5-409a-f41e-68a67b8d273b"
      },
      "execution_count": 7,
      "outputs": [
        {
          "output_type": "stream",
          "name": "stdout",
          "text": [
            "la circunferencia es:  94.2477\n",
            "El area es:  706.85775\n"
          ]
        }
      ]
    }
  ]
}