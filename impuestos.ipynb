{
  "nbformat": 4,
  "nbformat_minor": 0,
  "metadata": {
    "colab": {
      "provenance": [],
      "authorship_tag": "ABX9TyM7D4bKfI8BZ4Q+WwBv8L/Y",
      "include_colab_link": true
    },
    "kernelspec": {
      "name": "python3",
      "display_name": "Python 3"
    },
    "language_info": {
      "name": "python"
    }
  },
  "cells": [
    {
      "cell_type": "markdown",
      "metadata": {
        "id": "view-in-github",
        "colab_type": "text"
      },
      "source": [
        "<a href=\"https://colab.research.google.com/github/pikafressa/helloWorld/blob/main/impuestos.ipynb\" target=\"_parent\"><img src=\"https://colab.research.google.com/assets/colab-badge.svg\" alt=\"Open In Colab\"/></a>"
      ]
    },
    {
      "cell_type": "code",
      "execution_count": 19,
      "metadata": {
        "colab": {
          "base_uri": "https://localhost:8080/"
        },
        "id": "a9z3A0AWHt6x",
        "outputId": "84d382ba-d7c5-487e-aa8c-b39163ae83f2"
      },
      "outputs": [
        {
          "output_type": "stream",
          "name": "stdout",
          "text": [
            "Ingresa tu cantidad de ingreso anual: 800\n",
            "la tasa es del 5%, La cantidad de impuestos a pagar son: $ 40.0\n"
          ]
        }
      ],
      "source": [
        "#  <>\n",
        "ingresos = float(input(\"Ingresa tu cantidad de ingreso anual: \"))\n",
        "\n",
        "if (ingresos <= 1000 ):\n",
        "  impuestos = ingresos*0.05\n",
        "  print(\"la tasa es del 5%, La cantidad de impuestos a pagar son: $\", impuestos)\n",
        "elif (ingresos >= 1001 and ingresos <= 2000):\n",
        "  impuestos_2 = ingresos*0.15\n",
        "  print(\"la tasa es del 15%, La cantidad de impuestos a pagar son: $\", impuestos_2)\n",
        "elif (ingresos >= 2001 and ingresos <= 3000):\n",
        "  impuestos_3 = ingresos*0.20\n",
        "  print(\"la tasa es del 20%, La cantidad de impuestos a pagar son: $\", impuestos_3)\n",
        "elif (ingresos >= 3001):\n",
        "  impuestos_4 = ingresos*0.30\n",
        "  print(\"la tasa es del 30%, La cantidad de impuestos a pagar son: $\", impuestos_4)\n",
        "else : print (\"error\")"
      ]
    }
  ]
}